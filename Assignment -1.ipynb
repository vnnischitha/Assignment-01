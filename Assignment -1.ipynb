{
 "cells": [
  {
   "cell_type": "code",
   "execution_count": 1,
   "metadata": {},
   "outputs": [
    {
     "name": "stdout",
     "output_type": "stream",
     "text": [
      "Enter The Value For x= 2\n",
      "Enter The Value For y= 3\n",
      "Addition Of 2 and 3 is 5\n",
      "Subtraction of 2 and 3 is -1\n",
      "Multiplication of 2 and 3 is 6\n",
      "Division of  2 by 3 is 0.6666666666666666\n",
      "Modulus of  2 and 3 is 2\n",
      "Exponent of  2 to the power of  3 is 8\n",
      "Floor Division of  2 by 3 is  0\n"
     ]
    }
   ],
   "source": [
    "x=int(input(\"Enter The Value For x= \"))\n",
    "y=int(input(\"Enter The Value For y= \"))\n",
    "#Addition\n",
    "print(\"Addition Of\",x,\"and\",y,\"is\",x+y)\n",
    "#Subtraction\n",
    "print(\"Subtraction of\",x,\"and\",y,\"is\",x-y)\n",
    "#Multiplication\n",
    "print(\"Multiplication of\",x,\"and\",y,\"is\",x*y)\n",
    "#Division\n",
    "print(\"Division of \",x,\"by\",y,\"is\",x/y)\n",
    "#modulus\n",
    "print(\"Modulus of \",x,\"and\",y,\"is\",x%y)\n",
    "#Exponent\n",
    "print(\"Exponent of \",x,\"to the power of \",y,\"is\",x**y)\n",
    "#Floor Division\n",
    "print(\"Floor Division of \",x,\"by\",y,\"is \",x//y)"
   ]
  },
  {
   "cell_type": "code",
   "execution_count": 2,
   "metadata": {},
   "outputs": [
    {
     "name": "stdout",
     "output_type": "stream",
     "text": [
      "Enter The Principal Amount=100\n",
      "Enter The Time Period=6\n",
      "Enter The Rate Of Interest=2\n",
      "Simple Interest Is 12.0\n"
     ]
    }
   ],
   "source": [
    "p=float(input(\"Enter The Principal Amount=\"))\n",
    "t=float(input(\"Enter The Time Period=\"))\n",
    "r=float(input(\"Enter The Rate Of Interest=\"))\n",
    "si=(p*t*r)/100\n",
    "print(\"Simple Interest Is\",si)"
   ]
  },
  {
   "cell_type": "code",
   "execution_count": 3,
   "metadata": {},
   "outputs": [
    {
     "name": "stdout",
     "output_type": "stream",
     "text": [
      "Enter The Radius Of The Circle 4\n",
      "Area Of THe Circle Is 50.285714285714285\n"
     ]
    }
   ],
   "source": [
    "r=float(input(\"Enter The Radius Of The Circle \"))\n",
    "a=r*r*(22/7)\n",
    "print(\"Area Of THe Circle Is\",a)"
   ]
  },
  {
   "cell_type": "code",
   "execution_count": 4,
   "metadata": {},
   "outputs": [
    {
     "name": "stdout",
     "output_type": "stream",
     "text": [
      "Enter The Breadth Of The Triangle=4\n",
      "Enter The Height Of The Triangle=6\n",
      "Area Of The Triangle Is 12.0\n"
     ]
    }
   ],
   "source": [
    "A=float(input(\"Enter The Breadth Of The Triangle=\"))\n",
    "B=float(input(\"Enter The Height Of The Triangle=\"))\n",
    "Area=(A*B)/2;\n",
    "print(\"Area Of The Triangle Is\",Area)"
   ]
  },
  {
   "cell_type": "code",
   "execution_count": 5,
   "metadata": {},
   "outputs": [
    {
     "name": "stdout",
     "output_type": "stream",
     "text": [
      "Enter The Temperature In Degree Celsius= 100\n",
      "Temperature In Degree Fahrenheit= 212.0\n"
     ]
    }
   ],
   "source": [
    "Celsius=float(input(\"Enter The Temperature In Degree Celsius= \"))\n",
    "Fahrenheit=(Celsius*9/5)+32\n",
    "print(\"Temperature In Degree Fahrenheit=\",Fahrenheit)"
   ]
  },
  {
   "cell_type": "code",
   "execution_count": 6,
   "metadata": {},
   "outputs": [
    {
     "name": "stdout",
     "output_type": "stream",
     "text": [
      "Enter The Length Of The Rectangle=5\n",
      "Enter The Width Of The Rectangle=2\n",
      "Area Of The Rectangle= 10.0\n"
     ]
    }
   ],
   "source": [
    "L=float(input(\"Enter The Length Of The Rectangle=\"))\n",
    "W=float(input(\"Enter The Width Of The Rectangle=\"))\n",
    "Area=L*W\n",
    "print(\"Area Of The Rectangle=\",Area)"
   ]
  },
  {
   "cell_type": "code",
   "execution_count": 7,
   "metadata": {},
   "outputs": [
    {
     "name": "stdout",
     "output_type": "stream",
     "text": [
      "Enter The Side Of The Square=4\n",
      "Perimeter Of A Sqaure Is 16.0\n"
     ]
    }
   ],
   "source": [
    "side=float(input(\"Enter The Side Of The Square=\"))\n",
    "Perimeter=4*side\n",
    "print(\"Perimeter Of A Sqaure Is\",Perimeter)"
   ]
  },
  {
   "cell_type": "code",
   "execution_count": 8,
   "metadata": {},
   "outputs": [
    {
     "name": "stdout",
     "output_type": "stream",
     "text": [
      "Enter The Radius Of The Circle=10\n",
      "Circumference Of The Circle is 62.857142857142854\n"
     ]
    }
   ],
   "source": [
    "r=float(input(\"Enter The Radius Of The Circle=\"))\n",
    "Circum=2*(22/7)*r\n",
    "print(\"Circumference Of The Circle is\",Circum)"
   ]
  },
  {
   "cell_type": "code",
   "execution_count": null,
   "metadata": {},
   "outputs": [],
   "source": []
  }
 ],
 "metadata": {
  "kernelspec": {
   "display_name": "Python 3",
   "language": "python",
   "name": "python3"
  },
  "language_info": {
   "codemirror_mode": {
    "name": "ipython",
    "version": 3
   },
   "file_extension": ".py",
   "mimetype": "text/x-python",
   "name": "python",
   "nbconvert_exporter": "python",
   "pygments_lexer": "ipython3",
   "version": "3.8.3"
  }
 },
 "nbformat": 4,
 "nbformat_minor": 4
}
